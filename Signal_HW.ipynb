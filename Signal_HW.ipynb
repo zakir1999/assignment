{
 "cells": [
  {
   "cell_type": "code",
   "execution_count": 2,
   "id": "f492ca81",
   "metadata": {},
   "outputs": [],
   "source": [
    "import numpy as np\n",
    "import matplotlib.pyplot as plt"
   ]
  },
  {
   "cell_type": "code",
   "execution_count": 4,
   "id": "70b31a74",
   "metadata": {},
   "outputs": [
    {
     "data": {
      "text/plain": [
       "array([-15, -14, -13, -12, -11, -10,  -9,  -8,  -7,  -6,  -5,  -4,  -3,\n",
       "        -2,  -1,   0,   1,   2,   3,   4,   5,   6,   7,   8,   9,  10,\n",
       "        11,  12,  13,  14])"
      ]
     },
     "execution_count": 4,
     "metadata": {},
     "output_type": "execute_result"
    }
   ],
   "source": [
    "n = np.arange(-15,15)\n",
    "n"
   ]
  },
  {
   "cell_type": "code",
   "execution_count": 8,
   "id": "7b7c41cb",
   "metadata": {},
   "outputs": [],
   "source": [
    "def findxn(n):\n",
    "    if (0 <= n <= 10): return (n * n) + n\n",
    "    elif (-10<= n < 0): return - (n * n) + n\n",
    "    else: return 0"
   ]
  },
  {
   "cell_type": "code",
   "execution_count": 16,
   "id": "9cf227c7",
   "metadata": {},
   "outputs": [],
   "source": [
    "xn = np.array([])\n",
    "for a in n:\n",
    "    xn = np.append(xn, findxn(a))"
   ]
  },
  {
   "cell_type": "code",
   "execution_count": 17,
   "id": "3889a119",
   "metadata": {},
   "outputs": [
    {
     "data": {
      "text/plain": [
       "array([   0.,    0.,    0.,    0.,    0., -110.,  -90.,  -72.,  -56.,\n",
       "        -42.,  -30.,  -20.,  -12.,   -6.,   -2.,    0.,    2.,    6.,\n",
       "         12.,   20.,   30.,   42.,   56.,   72.,   90.,  110.,    0.,\n",
       "          0.,    0.,    0.])"
      ]
     },
     "execution_count": 17,
     "metadata": {},
     "output_type": "execute_result"
    }
   ],
   "source": [
    "xn"
   ]
  },
  {
   "cell_type": "code",
   "execution_count": 20,
   "id": "05f86c10",
   "metadata": {},
   "outputs": [
    {
     "data": {
      "text/plain": [
       "array([-20, -18, -16, -14, -12, -10,  -8,  -6,  -4,  -2,   0,   2,   4,\n",
       "         6,   8,  10,  12,  14,  16,  18,  20,  22,  24,  26,  28,  30,\n",
       "        32,  34,  36,  38])"
      ]
     },
     "execution_count": 20,
     "metadata": {},
     "output_type": "execute_result"
    }
   ],
   "source": [
    "a = n[0:n.size-5]\n",
    "a = np.array(n + 5)\n",
    "a = 2 * a\n",
    "a"
   ]
  },
  {
   "cell_type": "code",
   "execution_count": 22,
   "id": "fcea1b07",
   "metadata": {},
   "outputs": [
    {
     "data": {
      "text/plain": [
       "array([-40, -38, -36, -34, -32, -30, -28, -26, -24, -22, -20, -18, -16,\n",
       "       -14, -12, -10,  -8,  -6,  -4,  -2,   0,   2,   4,   6,   8,  10,\n",
       "        12,  14,  16,  18])"
      ]
     },
     "execution_count": 22,
     "metadata": {},
     "output_type": "execute_result"
    }
   ],
   "source": [
    "b = n[0:n.size+5]\n",
    "b = np.array(n - 5)\n",
    "b = 2 * b\n",
    "b"
   ]
  },
  {
   "cell_type": "code",
   "execution_count": 23,
   "id": "ed6c1ed9",
   "metadata": {},
   "outputs": [
    {
     "data": {
      "text/plain": [
       "array([ 800,  684,  576,  476,  384,  300,  224,  156,   96,   44,    0,\n",
       "        -36,  -64,  -84,  -96, -100,  -96,  -84,  -64,  -36,    0,   44,\n",
       "         96,  156,  224,  300,  384,  476,  576,  684])"
      ]
     },
     "execution_count": 23,
     "metadata": {},
     "output_type": "execute_result"
    }
   ],
   "source": [
    "m = a * b\n",
    "m"
   ]
  },
  {
   "cell_type": "code",
   "execution_count": 24,
   "id": "78aa3343",
   "metadata": {},
   "outputs": [],
   "source": [
    "yn = m * xn"
   ]
  },
  {
   "cell_type": "code",
   "execution_count": 25,
   "id": "f03e84ae",
   "metadata": {},
   "outputs": [
    {
     "data": {
      "text/plain": [
       "array([     0.,      0.,      0.,      0.,      0., -33000., -20160.,\n",
       "       -11232.,  -5376.,  -1848.,     -0.,    720.,    768.,    504.,\n",
       "          192.,     -0.,   -192.,   -504.,   -768.,   -720.,      0.,\n",
       "         1848.,   5376.,  11232.,  20160.,  33000.,      0.,      0.,\n",
       "            0.,      0.])"
      ]
     },
     "execution_count": 25,
     "metadata": {},
     "output_type": "execute_result"
    }
   ],
   "source": [
    "yn"
   ]
  },
  {
   "cell_type": "code",
   "execution_count": 26,
   "id": "002c88cb",
   "metadata": {},
   "outputs": [
    {
     "data": {
      "text/plain": [
       "array([    -0.,     -0.,     -0.,     -0.,     -0.,  33000.,  20160.,\n",
       "        11232.,   5376.,   1848.,      0.,   -720.,   -768.,   -504.,\n",
       "         -192.,      0.,    192.,    504.,    768.,    720.,     -0.,\n",
       "        -1848.,  -5376., -11232., -20160., -33000.,     -0.,     -0.,\n",
       "           -0.,     -0.])"
      ]
     },
     "execution_count": 26,
     "metadata": {},
     "output_type": "execute_result"
    }
   ],
   "source": [
    "yn = np.array(yn * -1)\n",
    "yn"
   ]
  },
  {
   "cell_type": "code",
   "execution_count": 27,
   "id": "efc4dfca",
   "metadata": {},
   "outputs": [
    {
     "data": {
      "image/png": "[encoded data removed]",
      "text/plain": [
       "<Figure size 640x480 with 1 Axes>"
      ]
     },
     "metadata": {},
     "output_type": "display_data"
    }
   ],
   "source": [
    "plt.stem(n, yn)\n",
    "plt.show()"
   ]
  },
  {
   "cell_type": "code",
   "execution_count": null,
   "id": "ddfe598f",
   "metadata": {},
   "outputs": [],
   "source": []
  }
 ],
 "metadata": {
  "kernelspec": {
   "display_name": "Python 3 (ipykernel)",
   "language": "python",
   "name": "python3"
  },
  "language_info": {
   "codemirror_mode": {
    "name": "ipython",
    "version": 3
   },
   "file_extension": ".py",
   "mimetype": "text/x-python",
   "name": "python",
   "nbconvert_exporter": "python",
   "pygments_lexer": "ipython3",
   "version": "3.11.5"
  }
 },
 "nbformat": 4,
 "nbformat_minor": 5
}
